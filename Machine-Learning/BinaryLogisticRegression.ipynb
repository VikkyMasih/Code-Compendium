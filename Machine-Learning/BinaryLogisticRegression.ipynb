{
 "cells": [
  {
   "cell_type": "markdown",
   "id": "7b8dc40d",
   "metadata": {},
   "source": [
    "## Logistic Regression\n",
    "\n",
    "Logistic regression is the process of estimating the **relationship** between **probability of a discreet event** and the independent variables or the regressors.\n",
    "\n",
    "----\n",
    "### Logistic Model (Linear decision boundary)\n",
    "\n",
    "$$p_i=logistic\\left(\\sum_jx_{ij}\\theta_j\\right)$$\n",
    "Where,\n",
    "$$ logistic(z)=\\frac{1}{1+e^{-z}} $$\n",
    "\n",
    "|Symbol | Description |\n",
    "| :---: | :--- |\n",
    "| $p_i$ | Probability of an event occuring |\n",
    "| $x_{ij}$ | Design matrix containing regressors of the training data |\n",
    "| $\\theta_j$ | Coefficients of the inner linear model |\n"
   ]
  },
  {
   "cell_type": "code",
   "execution_count": 1,
   "id": "6f4c4e5e",
   "metadata": {},
   "outputs": [
    {
     "name": "stdout",
     "output_type": "stream",
     "text": [
      "----------------------------------------------------------------------\n",
      "GNU Octave Version: 7.1.0 (hg id: 04120d65778a)\n",
      "GNU Octave License: GNU General Public License\n",
      "Operating System: MINGW32_NT-6.2 Windows 6.2  x86_64\n",
      "----------------------------------------------------------------------\n"
     ]
    }
   ],
   "source": [
    "clc\n",
    "close all\n",
    "clear all\n",
    "format long\n",
    "ver Octave"
   ]
  },
  {
   "cell_type": "markdown",
   "id": "64bf3a82",
   "metadata": {},
   "source": [
    "### Hypothesis function (Binary Logistic Regression)\n",
    "\n",
    "$$ f_\\theta([X]_i)=logistic\\left(\\sum_jx_{ij}\\theta_j\\right)=\\frac{1}{1+e^{-\\left(\\sum_jx_{ij}\\theta_j\\right)}} $$"
   ]
  },
  {
   "cell_type": "code",
   "execution_count": 2,
   "id": "8d2cb6fd",
   "metadata": {},
   "outputs": [],
   "source": [
    "function f=hypothesisFunction(X,theta)\n",
    "    f=1./(1+exp(-X*theta));\n",
    "endfunction"
   ]
  },
  {
   "cell_type": "markdown",
   "id": "bf081259",
   "metadata": {},
   "source": [
    "### Prediction function (Binary Logistic Regression)\n",
    "Taking 0.5 as the threshold probability.\n",
    "\n",
    "$$ g_\\theta([X])=\\begin{cases}\n",
    " & 1, \\text{ if } logistic\\left(\\sum_jx_{ij}\\theta_j\\right) \\geq 0.5\\\\\n",
    " & 0, \\text{ if } logistic\\left(\\sum_jx_{ij}\\theta_j\\right) <  0.5\n",
    "\\end{cases}$$"
   ]
  },
  {
   "cell_type": "code",
   "execution_count": 3,
   "id": "6b644ba6",
   "metadata": {},
   "outputs": [],
   "source": [
    "function y=predictionFunction(X,theta,threshold=0.5)\n",
    "    y=(hypothesisFunction(X,theta)>=threshold);\n",
    "endfunction"
   ]
  },
  {
   "cell_type": "markdown",
   "id": "d7abfb62",
   "metadata": {},
   "source": [
    "### Cost Function and its gradient\n",
    "$$\\begin{aligned}\n",
    "J([X],y,\\theta) & = \\frac{1}{m}\\sum_i{cost(f_\\theta([x]_i),y_i)} \\\\\n",
    "& = -\\frac{1}{m}\\sum_{i=1}^m{\\left[y_ilog(f_\\theta([x]_i))+(1-y_i)log(1-f_\\theta([x]_i)) \\right]} \\\\\n",
    "\\nabla J([X],y,\\theta)_j & = \\frac{1}{m}\\sum_{i=1}^m{(f_\\theta([x]_i)-y_i)x_{ij}}  \n",
    "\\end{aligned}\n",
    "$$\n",
    "Where,\n",
    "$$ cost(f_\\theta([x]_i),y_i) = \\begin{cases}\n",
    " & -log(f_\\theta([x]_i)), &\\text{ if } y_i = 1\\\\\n",
    " & -log(1-f_\\theta([x]_i)), &\\text{ if } y_i = 0\n",
    "\\end{cases}$$"
   ]
  },
  {
   "cell_type": "code",
   "execution_count": 4,
   "id": "4be67028",
   "metadata": {},
   "outputs": [],
   "source": [
    "function [J,gradJ]=costFunctionWithGrad(X,y,theta)\n",
    "    h=hypothesisFunction(X,theta);\n",
    "    m=length(y);\n",
    "    J = 1/m*sum(-y.*log(h)-(1-y).*log(1-h));\n",
    "    gradJ = 1/m*sum((h-y).*X)';\n",
    "endfunction"
   ]
  },
  {
   "cell_type": "markdown",
   "id": "df3fc77e",
   "metadata": {},
   "source": [
    "### Model parameter estimation\n",
    "Minimizing cost by utilizing gradient information"
   ]
  },
  {
   "cell_type": "code",
   "execution_count": 5,
   "id": "a7f415fc",
   "metadata": {},
   "outputs": [],
   "source": [
    "function [f,theta,cost]=modelFit(X,y,initial_theta,max_iterations=400)\n",
    "    options = optimset('GradObj', 'on', 'MaxIter', max_iterations, 'AutoScaling','on');\n",
    "    [theta, cost] = fminunc(@(t)(costFunctionWithGrad(X, y, t)), initial_theta, options);\n",
    "    f=@(X) predictionFunction(X,theta);\n",
    "endfunction"
   ]
  },
  {
   "cell_type": "markdown",
   "id": "d9141d43",
   "metadata": {},
   "source": [
    "### Plot Data"
   ]
  },
  {
   "cell_type": "code",
   "execution_count": 6,
   "id": "6edcce42",
   "metadata": {},
   "outputs": [],
   "source": [
    "function plotData(X,y)\n",
    "    d=size(X,2)-1;\n",
    "    if d>3 || d==1\n",
    "        disp(\"Cannot visualize higer dimensional data. Skipping.\")\n",
    "        return        \n",
    "    endif \n",
    "    y1=find(y==1);\n",
    "    y0=find(y==0);\n",
    "    if d==2\n",
    "        figure\n",
    "        hold on\n",
    "        scatter(X(y1,2),X(y1,3),\"Filled\");\n",
    "        scatter(X(y0,2),X(y0,3),\"Filled\");\n",
    "    else\n",
    "        scatter3(X(y1,2),X(y1,3),X(y1,4),\"Filled\");\n",
    "        hold on\n",
    "        scatter3(X(y0,2),X(y0,3),X(y0,4),\"Filled\");\n",
    "        zlabel('x3')\n",
    "    endif\n",
    "    xlabel('x1')\n",
    "    ylabel('x2')\n",
    "    title('Data')\n",
    "    legend('Positive','Negative')\n",
    "    hold off\n",
    "endfunction"
   ]
  },
  {
   "cell_type": "markdown",
   "id": "0674480b",
   "metadata": {},
   "source": [
    "### Plot Decision Boundary\n",
    "Contour or isosurface plot at value 0.5 for hypothesis function or Contour or isosurface plot at value 0 for the inner linear regression."
   ]
  },
  {
   "cell_type": "code",
   "execution_count": 7,
   "id": "91982401",
   "metadata": {},
   "outputs": [],
   "source": [
    "function plotDecisionBoundary(X,y,hFunction)\n",
    "    d=size(X,2)-1;\n",
    "    if d>3 || d==1\n",
    "        disp(\"Cannot visualize higer dimensional data. Skipping.\")\n",
    "        return        \n",
    "    endif \n",
    "    x_min=min(X);\n",
    "    x_max=max(X);\n",
    "    y1=find(y==1);\n",
    "    y0=find(y==0);\n",
    "    x1_gp=linspace(x_min(2),x_max(2),25);\n",
    "    x2_gp=linspace(x_min(3),x_max(3),25);\n",
    "    if d==2\n",
    "        [x1,x2]=meshgrid(x1_gp,x2_gp);\n",
    "        x1x2=[ones(numel(x1),1) x1(:) x2(:)];\n",
    "        p_x1x2=hFunction(x1x2);\n",
    "        p=reshape(p_x1x2,size(x1));\n",
    "        figure\n",
    "        hold on\n",
    "        scatter(X(y1,2),X(y1,3),\"Filled\");\n",
    "        scatter(X(y0,2),X(y0,3),\"Filled\");\n",
    "        contour(x1,x2,p,[0.5 0.5]);\n",
    "    else\n",
    "        x3_gp=linspace(x_min(4),x_max(4),25);\n",
    "        [x1,x2,x3]=meshgrid(x1_gp,x2_gp,x3_gp);\n",
    "        x1x2x3=[ones(numel(x1),1) x1(:) x2(:) x3(:)];\n",
    "        p_x1x2x3=hFunction(x1x2x3);\n",
    "        p=reshape(p_x1x2x3,size(x1));\n",
    "        scatter3(X(y1,2),X(y1,3),X(y1,4),\"Filled\");\n",
    "        hold on\n",
    "        scatter3(X(y0,2),X(y0,3),X(y0,4),\"Filled\");\n",
    "        isosurface(x1,x2,x3,p,0.5);\n",
    "        zlabel('x3')\n",
    "    endif\n",
    "    xlabel('x1')\n",
    "    ylabel('x2')\n",
    "    title('Decision Boundary')\n",
    "    legend('Positive','Negative')\n",
    "    hold off\n",
    "endfunction"
   ]
  },
  {
   "cell_type": "markdown",
   "id": "c0f60c18",
   "metadata": {},
   "source": [
    "### Confusion Matrix\n",
    "$$ \\text{True Positive (TP) = Num. of True predictions where target is True} $$\n",
    "$$ \\text{True Negative (TN) = Num. of False predictions where target is False} $$\n",
    "$$ \\text{False Positive (FP) = Num. of True predictions where target is False} $$\n",
    "$$ \\text{False Negative (FN) = Num. of False predictions where target is True} $$\n",
    "\n",
    "|  |(+) Prediction | (-) Prediction |\n",
    "|:---:|:---:|:---:|\n",
    "|(+) Actual | TP | FN |\n",
    "|(-) Actual | FP | TN |\n",
    "\n"
   ]
  },
  {
   "cell_type": "code",
   "execution_count": 8,
   "id": "28bf8933",
   "metadata": {},
   "outputs": [],
   "source": [
    "function C=ConfusionMatrix(p,t)\n",
    "    TruePositive=sum(p==t & t==1);\n",
    "    TrueNeagtive=sum(p==t & t==0);\n",
    "    FalsePositive=sum(p~=t & t==0);\n",
    "    FalseNegative=sum(p~=t & t==1);\n",
    "    C=[TruePositive  , FalseNegative; \n",
    "       FalsePositive , TrueNeagtive];\n",
    "endfunction\n",
    "\n",
    "function printCell(c)\n",
    "    printf ([sprintf(\"%%%is\", max (cellfun (@numel, c))+8) \"\\n\"], c'{:})\n",
    "endfunction\n",
    "\n",
    "function prettyprintConfusionMatrix(C)\n",
    "    Z=cell(3);\n",
    "    Z(1,1)=\"|\";\n",
    "    Z(1,2)=\"Pred. (+) |\";\n",
    "    Z(1,3)=\"Pred. (-) |\";\n",
    "    Z(2,1)=\"Actual (+) |\";\n",
    "    Z(3,1)=\"Actual (-) |\";\n",
    "    Z(2,2)=num2str(C(1,1),\"%-8.2g |\");\n",
    "    Z(2,3)=num2str(C(1,2),\"%-8.2g |\");\n",
    "    Z(3,2)=num2str(C(2,1),\"%-8.2g |\");\n",
    "    Z(3,3)=num2str(C(2,2),\"%-8.2g |\");\n",
    "    printCell(Z);\n",
    "endfunction"
   ]
  },
  {
   "cell_type": "markdown",
   "id": "84ff990d",
   "metadata": {},
   "source": [
    "### Main Program\n",
    "\n",
    "Reads a csv file having last column as the target class and performs binary logistic regression analysis."
   ]
  },
  {
   "cell_type": "code",
   "execution_count": 9,
   "id": "5b82791e",
   "metadata": {},
   "outputs": [
    {
     "name": "stdout",
     "output_type": "stream",
     "text": [
      "First 10 entries in the file: Data_LogisticRegression_LinearBoundary_Xy.csv\n",
      "   10.0000    5.1000    1.0000\n",
      "    6.1000    6.0000    1.0000\n",
      "    7.7000    2.9000         0\n",
      "    8.0000    9.3000    1.0000\n",
      "    1.4000    1.6000         0\n",
      "    2.7000    6.3000    1.0000\n",
      "    2.6000    7.3000    1.0000\n",
      "    6.0000    4.4000         0\n",
      "    3.8000    1.1000         0\n",
      "    0.9000    5.3000         0\n"
     ]
    },
    {
     "data": {
      "image/png": "[encoded data removed]",
      "text/plain": [
       "<IPython.core.display.Image object>"
      ]
     },
     "metadata": {},
     "output_type": "display_data"
    }
   ],
   "source": [
    "format short\n",
    "[fname,fpath]=uigetfile(\"*.csv\");\n",
    "fileLoc=fullfile(fpath,fname);\n",
    "Xy=csvread(fileLoc,1,0);\n",
    "printf(\"First 10 entries in the file: %s\\n\",fname)\n",
    "disp(Xy(1:10,:));\n",
    "y=Xy(:,end);\n",
    "X=[ones(length(y),1) Xy(:,1:end-1)];\n",
    "plotData(X,y)"
   ]
  },
  {
   "cell_type": "code",
   "execution_count": 10,
   "id": "205a7660",
   "metadata": {
    "scrolled": true
   },
   "outputs": [
    {
     "name": "stdout",
     "output_type": "stream",
     "text": [
      "Confusion Matrix:\n",
      "                   |        Pred. (+) |        Pred. (-) |\n",
      "        Actual (+) |         54       |         0        |\n",
      "        Actual (-) |         0        |         46       |\n"
     ]
    }
   ],
   "source": [
    "initial_theta=zeros(size(X,2),1);\n",
    "[fitM,theta,cost]=modelFit(X,y,initial_theta,10000);\n",
    "C=ConfusionMatrix(fitM(X),y);\n",
    "disp('Confusion Matrix:')\n",
    "prettyprintConfusionMatrix(C);"
   ]
  },
  {
   "cell_type": "code",
   "execution_count": 11,
   "id": "40e3dcce",
   "metadata": {},
   "outputs": [
    {
     "data": {
      "image/png": "[encoded data removed]",
      "text/plain": [
       "<IPython.core.display.Image object>"
      ]
     },
     "metadata": {},
     "output_type": "display_data"
    }
   ],
   "source": [
    "plotDecisionBoundary(X,y,@(x) hypothesisFunction(x,theta))"
   ]
  },
  {
   "cell_type": "code",
   "execution_count": 12,
   "id": "7920c69f",
   "metadata": {},
   "outputs": [
    {
     "name": "stdout",
     "output_type": "stream",
     "text": [
      "Cost = 0.0300862\n",
      "----------------------------\n",
      "10th design point regressors:\n",
      "   1.0000   0.9000   5.3000\n",
      "Predicted value of Dependent Variable = 0\n",
      "Target value of Dependent Variable = 0\n"
     ]
    }
   ],
   "source": [
    "printf(\"Cost = %g\\n\",cost)\n",
    "disp(\"----------------------------\")\n",
    "disp(\"10th design point regressors:\")\n",
    "disp(X(10,:))\n",
    "printf(\"Predicted value of Dependent Variable = %g\\n\",fitM(X(10,:)))\n",
    "printf(\"Target value of Dependent Variable = %g\\n\",y(10))"
   ]
  }
 ],
 "metadata": {
  "kernelspec": {
   "display_name": "Octave",
   "language": "octave",
   "name": "octave"
  },
  "language_info": {
   "file_extension": ".m",
   "help_links": [
    {
     "text": "GNU Octave",
     "url": "https://www.gnu.org/software/octave/support.html"
    },
    {
     "text": "Octave Kernel",
     "url": "https://github.com/Calysto/octave_kernel"
    },
    {
     "text": "MetaKernel Magics",
     "url": "https://metakernel.readthedocs.io/en/latest/source/README.html"
    }
   ],
   "mimetype": "text/x-octave",
   "name": "octave",
   "version": "7.1.0"
  }
 },
 "nbformat": 4,
 "nbformat_minor": 5
}
