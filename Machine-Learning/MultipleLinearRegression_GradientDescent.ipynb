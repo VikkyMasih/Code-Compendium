{
 "cells": [
  {
   "cell_type": "markdown",
   "id": "4f55a989",
   "metadata": {},
   "source": [
    "## Multiple Linear Regression using Gradient Descent Algorithm\n",
    "\n",
    "**Regression Analysis** is a process of estimating **relationship** between a dependent variable and one or more independent variables or regressors.\n",
    "\n",
    "**Multiple Linear Regression** estimates linear relationship between **one** dependent variable and **more than one** independent variables.\n",
    "\n",
    "**Multivariate Linear regression** estimates linear relationship between **many** dependent variables and **one or more** independent variables.\n",
    "\n",
    "**Note:** Multiple Linear Regression $\\neq$ Multivariate Linear Regression\n",
    "\n",
    "----\n",
    "\n",
    "### Linear Model\n",
    "$$ y=\\theta_0x_0+\\theta_1x_1+...+\\theta_mx_m+\\epsilon= \\epsilon+\\sum_{i=0}^m x_i\\theta_i$$  \n",
    "Where,\n",
    "\n",
    "|Symbol |Description |\n",
    "| :---:| :--- |\n",
    "|$y$ |Dependent Variable  |\n",
    "|$x_i$  |Predictors / Regressors / Independent Variables <br>($x_0=1$) |\n",
    "|$\\theta_i$ | Parameters / Coefficients of the linear model|\n",
    "|$\\epsilon$ | Prediction Error |\n"
   ]
  },
  {
   "cell_type": "code",
   "execution_count": 1,
   "id": "35b1a778",
   "metadata": {},
   "outputs": [],
   "source": [
    "clc\n",
    "close all\n",
    "clear all\n",
    "format long"
   ]
  },
  {
   "cell_type": "markdown",
   "id": "2a4f1bff",
   "metadata": {},
   "source": [
    "### Hypothesis Function / Linear Model\n",
    "$$ f([x],\\{\\theta\\})=f_i=\\sum_{j} x_{ij} \\theta_j \\Leftrightarrow \\{f\\}=[X] \\{\\theta\\}$$  \n",
    "Where,  \n",
    "\n",
    "|Symbol |Description |\n",
    "| :---:| :--- |\n",
    "|$$f([x],\\{\\theta\\})$$ |Vectorized Function estimating Dependent Variable using linear model |\n",
    "|$x_i$  |Predictors / Regressors / Independent Variables <br>($x_0=1$) |\n",
    "|$\\theta_i$ | Parameters / Coefficients of the linear model|\n",
    "|$[X]$    |Design Matrix <br>(Ones filled in 1st column)<br>(Each row for a design point) |  \n",
    "|$\\{\\theta\\}$| Parameter Column Matrix |"
   ]
  },
  {
   "cell_type": "code",
   "execution_count": 2,
   "id": "71853798",
   "metadata": {},
   "outputs": [],
   "source": [
    "function f=hypothesisFunction(X,theta)\n",
    "  f=X*theta;\n",
    "endfunction"
   ]
  },
  {
   "cell_type": "markdown",
   "id": "ce0df762",
   "metadata": {},
   "source": [
    "### Cost Function (Mean Squared Error)\n",
    "$$ J([X],\\{y\\},\\{\\theta\\})=\\frac{1}{2n}\\sum{(f([X]_i,\\{\\theta\\})-y_i)^2} $$\n",
    "Where,  \n",
    "\n",
    "|Symbol |Description |\n",
    "| :---:| :--- |\n",
    "|$$J([X],\\{y\\},\\{\\theta\\})$$ |Cost to be minimised. Taken as half of mean squared error. |\n",
    "|$[x]_i$  |Predictors for $i^{th}$ design point |\n",
    "|$y_i$    |Target of dependent variable at $i^{th}$ design point |  \n",
    "|$\\{\\theta\\}$ | Parameters / Coefficients of the linear model|\n",
    "|$n$ | Number of design points in training |\n"
   ]
  },
  {
   "cell_type": "code",
   "execution_count": 3,
   "id": "5942071f",
   "metadata": {},
   "outputs": [],
   "source": [
    "function J=costFunction(X,y,theta)\n",
    "   J=sum((hypothesisFunction(X,theta)-y).^2)/(2*length(y));\n",
    "endfunction"
   ]
  },
  {
   "cell_type": "markdown",
   "id": "cdac679a",
   "metadata": {},
   "source": [
    "### Gradient Descent Step\n",
    "Improve current value of $\\theta$ by moving towards steepest decent direction of the cost function.\n",
    "$ \\theta^* = \\theta - \\alpha \\nabla{J} $  \n",
    "\n",
    "$$ \\theta_j^*=\\theta_j-\\frac{\\alpha}{n}\\sum_i{(f([X]_i,\\{\\theta\\})-y_i)x_{ij}} $$\n",
    "Where,  \n",
    "\n",
    "|Symbol |Description |\n",
    "| :---:| :--- |\n",
    "|$$\\theta_j^*$$ |Next estimate of $j^{th}$ parameter |\n",
    "|$\\theta_j$ | $j^{th}$ parameter |\n",
    "|$[x]_i$  |Predictors for $i^{th}$ design point |\n",
    "|$x_{ij}$  |$j^{th}$ Regressor for $i^{th}$ design point |\n",
    "|$y_i$    |Target of dependent variable at $i^{th}$ design point |  \n",
    "|$n$ | Number of design points in training dataset|\n"
   ]
  },
  {
   "cell_type": "code",
   "execution_count": 4,
   "id": "a820310b",
   "metadata": {},
   "outputs": [],
   "source": [
    "function thetaNew=gradientDescentStep(X,y,theta,alpha)\n",
    "  thetaNew=theta-alpha/(length(y))*sum((hypothesisFunction(X,theta)-y).*X)';\n",
    "endfunction"
   ]
  },
  {
   "cell_type": "markdown",
   "id": "abbadb36",
   "metadata": {},
   "source": [
    "### Normalize and Denormalize Variables\n",
    "The transformation helps in numerical stability of the steepest descent algorithm.\n",
    "$$z^*=\\frac{z-\\mu_z}{\\sigma_z}$$"
   ]
  },
  {
   "cell_type": "code",
   "execution_count": 5,
   "id": "f53b2af3",
   "metadata": {},
   "outputs": [],
   "source": [
    "function z_norm = Normalize(z,mu,sigma)\n",
    "  z_norm = (z-mu)./sigma;\n",
    "endfunction\n",
    "\n",
    "function z = Denormalize(z_norm,mu,sigma)\n",
    "  z=z_norm.*sigma+mu;\n",
    "endfunction"
   ]
  },
  {
   "cell_type": "markdown",
   "id": "ac6a118e",
   "metadata": {},
   "source": [
    "### Gradient Descent Iterations\n",
    "Function returns both regression function and parameters. \n",
    "\n",
    "|Variable |Description |\n",
    "| :---:| :--- |\n",
    "|X | Design Matrix |\n",
    "|y | Target / Dependent Variable |\n",
    "|theta0 |Initial parameters |\n",
    "|alpha | Learning rate for the algorithm. Hyper-parameter |\n",
    "|epsilon  |Additional stopping criterion <br> Stops iteration if the change in cost is less than epsilon |\n",
    "|plotCost |Whether to plot cost function each iteration |"
   ]
  },
  {
   "cell_type": "code",
   "execution_count": 6,
   "id": "5769bfc7",
   "metadata": {},
   "outputs": [],
   "source": [
    "function [f,theta]=LinearRegression_GradientDescent(X, ...\n",
    "                                                    y, ...\n",
    "                                                    theta0=[], ...\n",
    "                                                    alpha=0.1, ...\n",
    "                                                    maxIterations=1000, ...\n",
    "                                                    epsilon=1e-6, ...\n",
    "                                                    plotCost=true)\n",
    "  % Initialize theta\n",
    "  if isempty(theta0) || length(theta0)~=size(X,2)+1\n",
    "      theta0=zeros(size(X,2)+1,1);\n",
    "  endif\n",
    "  theta=theta0;\n",
    "  \n",
    "  % Normalize Variables\n",
    "  mu_X=mean(X);\n",
    "  sigma_X=std(X);\n",
    "  X_norm=[ones(length(y),1) Normalize(X,mu_X,sigma_X)];\n",
    "  mu_y=mean(y);\n",
    "  sigma_y=std(y);\n",
    "  y_norm=Normalize(y,mu_y,sigma_y);\n",
    "  \n",
    "  % Prepare plot\n",
    "  if plotCost==true\n",
    "    figure\n",
    "    title(\"Performance\")\n",
    "    xlabel(\"Iteration (epoch)\")\n",
    "    ylabel(\"Cost (MSE)\")\n",
    "    hold on\n",
    "  endif\n",
    "  \n",
    "  % Initialize loop\n",
    "  i=0;\n",
    "  pc=costFunction(X_norm,y_norm,theta);\n",
    "  while i<=maxIterations\n",
    "    i=i+1;\n",
    "    theta=gradientDescentStep(X_norm,y_norm,theta,alpha);\n",
    "    cc=costFunction(X_norm,y_norm,theta);\n",
    "    if plotCost==true && i>1\n",
    "      plot([i-1,i],[pc,cc],'b-o');\n",
    "      if mod(i,maxIterations/20)==0\n",
    "        drawnow\n",
    "      endif\n",
    "    endif\n",
    "    \n",
    "    % Stop loop if change in cost is less than epsilon \n",
    "    if i>1 && (pc<cc || pc-cc<epsilon)\n",
    "      break\n",
    "    endif\n",
    "    pc=cc;\n",
    "  endwhile\n",
    "  if plotCost==true\n",
    "    hold off\n",
    "  endif\n",
    "  \n",
    "  % return linear regression function handle\n",
    "  f=@(X) Denormalize(hypothesisFunction([ones(size(X,1),1) Normalize(X,mu_X,sigma_X)],theta),mu_y,sigma_y);\n",
    "endfunction"
   ]
  },
  {
   "cell_type": "markdown",
   "id": "0ae82283",
   "metadata": {},
   "source": [
    "### Main Program\n",
    "Reads a csv file having last column as the target and performs linear regression analysis."
   ]
  },
  {
   "cell_type": "code",
   "execution_count": 7,
   "id": "739e8de7",
   "metadata": {},
   "outputs": [
    {
     "name": "stdout",
     "output_type": "stream",
     "text": [
      "First 10 entries in the file:\n",
      "     71      5    156    137   1470\n",
      "     28      0    119    114   1104\n",
      "     51     41    113     51    934\n",
      "     82     39    173     78   1366\n",
      "     54     45    187    108   1532\n",
      "     92     33     41     46    682\n",
      "     13     31     81     94    917\n",
      "     97     36    196     34   1261\n",
      "     94      0     30      6    343\n",
      "      9      2    134     85    987\n"
     ]
    }
   ],
   "source": [
    "[fname,fpath]=uigetfile(\"*.csv\");\n",
    "fileLoc=fullfile(fpath,fname);\n",
    "Xy=csvread(fileLoc,1,0);\n",
    "disp(\"First 10 entries in the file:\")\n",
    "disp(Xy(1:10,:));\n",
    "X=Xy(:,1:end-1);\n",
    "y=Xy(:,end);"
   ]
  },
  {
   "cell_type": "code",
   "execution_count": 8,
   "id": "12d9f710",
   "metadata": {},
   "outputs": [
    {
     "name": "stdout",
     "output_type": "stream",
     "text": [
      "Cost Convergence Plot:\n"
     ]
    },
    {
     "data": {
      "image/png": "[encoded data removed]",
      "text/plain": [
       "<IPython.core.display.Image object>"
      ]
     },
     "metadata": {},
     "output_type": "display_data"
    }
   ],
   "source": [
    "disp(\"Cost Convergence Plot:\")\n",
    "[linRegF,theta]=LinearRegression_GradientDescent(X,y);"
   ]
  },
  {
   "cell_type": "code",
   "execution_count": 9,
   "id": "33294462",
   "metadata": {},
   "outputs": [
    {
     "data": {
      "image/png": "[encoded data removed]",
      "text/plain": [
       "<IPython.core.display.Image object>"
      ]
     },
     "metadata": {},
     "output_type": "display_data"
    }
   ],
   "source": [
    "plot(linRegF(X),y,'or');\n",
    "xlabel(\"Output\");\n",
    "ylabel(\"Target\");\n",
    "title(\"Regression Performance\");\n",
    "grid on;\n",
    "axis equal tight;"
   ]
  },
  {
   "cell_type": "code",
   "execution_count": 10,
   "id": "6b85c182",
   "metadata": {},
   "outputs": [
    {
     "name": "stdout",
     "output_type": "stream",
     "text": [
      "Mean Square Error (MSE) = 2.44287\n",
      "----------------------------\n",
      "10th design point regressors:\n",
      "     9     2   134    85\n",
      "Predicted value of Dependent Variable = 988.953\n",
      "Target value of Dependent Variable = 987\n"
     ]
    }
   ],
   "source": [
    "printf(\"Mean Square Error (MSE) = %g\\n\",sum((linRegF(X)-y).^2)/length(y))\n",
    "disp(\"----------------------------\")\n",
    "disp(\"10th design point regressors:\")\n",
    "disp(X(10,:))\n",
    "printf(\"Predicted value of Dependent Variable = %g\\n\",linRegF(X(10,:)))\n",
    "printf(\"Target value of Dependent Variable = %g\\n\",y(10))"
   ]
  }
 ],
 "metadata": {
  "kernelspec": {
   "display_name": "Octave",
   "language": "octave",
   "name": "octave"
  },
  "language_info": {
   "file_extension": ".m",
   "help_links": [
    {
     "text": "GNU Octave",
     "url": "https://www.gnu.org/software/octave/support.html"
    },
    {
     "text": "Octave Kernel",
     "url": "https://github.com/Calysto/octave_kernel"
    },
    {
     "text": "MetaKernel Magics",
     "url": "https://metakernel.readthedocs.io/en/latest/source/README.html"
    }
   ],
   "mimetype": "text/x-octave",
   "name": "octave",
   "version": "7.1.0"
  }
 },
 "nbformat": 4,
 "nbformat_minor": 5
}
