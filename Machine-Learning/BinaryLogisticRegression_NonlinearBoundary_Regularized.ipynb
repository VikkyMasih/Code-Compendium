{
 "cells": [
  {
   "cell_type": "markdown",
   "id": "7b8dc40d",
   "metadata": {},
   "source": [
    "## Logistic Regression\n",
    "\n",
    "Logistic regression is the process of estimating the **relationship** between **probability of a discreet event** and the independent variables or the regressors.\n",
    "\n",
    "**Non-linear (Polynomial)** decision boundary can be captured by linear logistic model by adding nonlinear features. This is because the model is linear with respect to the parameters. \n",
    "\n",
    "**Regularization** is a method of controlling model complexity without removing features.\n",
    "\n",
    "----\n",
    "### Logistic Model (Linear decision boundary)\n",
    "\n",
    "$$p_i=logistic\\left(\\sum_jx_{ij}\\theta_j\\right)$$\n",
    "Where,\n",
    "$$ logistic(z)=\\frac{1}{1+e^{-z}} $$\n",
    "\n",
    "|Symbol | Description |\n",
    "| :---: | :--- |\n",
    "| $p_i$ | Probability of an event occuring |\n",
    "| $x_{ij}$ | Design matrix containing regressors of the training data |\n",
    "| $\\theta_j$ | Coefficients of the inner linear model |\n"
   ]
  },
  {
   "cell_type": "code",
   "execution_count": 1,
   "id": "6f4c4e5e",
   "metadata": {},
   "outputs": [
    {
     "name": "stdout",
     "output_type": "stream",
     "text": [
      "----------------------------------------------------------------------\n",
      "GNU Octave Version: 7.1.0 (hg id: 04120d65778a)\n",
      "GNU Octave License: GNU General Public License\n",
      "Operating System: MINGW32_NT-6.2 Windows 6.2  x86_64\n",
      "----------------------------------------------------------------------\n"
     ]
    }
   ],
   "source": [
    "clc\n",
    "close all\n",
    "clear all\n",
    "format long\n",
    "ver Octave"
   ]
  },
  {
   "cell_type": "markdown",
   "id": "fa71ea58",
   "metadata": {},
   "source": [
    "### Nonlinear Features from initial regressors\n",
    "Augments Design Matrix with nonlinear features based on initial regressors."
   ]
  },
  {
   "cell_type": "code",
   "execution_count": 2,
   "id": "ee584a35",
   "metadata": {},
   "outputs": [],
   "source": [
    "function X=countUP(X,base=2)\n",
    "    X(1)=X(1)+1;\n",
    "    for i=1:length(X)-1\n",
    "        if(X(i)==base) \n",
    "            X(i)=0;\n",
    "            X(i+1)=X(i+1)+1;\n",
    "        endif\n",
    "    endfor\n",
    "    if(X(end)==base)\n",
    "        X=zeros(size(X));\n",
    "    endif\n",
    "endfunction\n",
    "\n",
    "function t=nlTerms(nv,o)\n",
    "    count=1;\n",
    "    L={};\n",
    "    X=zeros(1,nv);\n",
    "    X(1)=1;\n",
    "    while sum(X)>0\n",
    "        X=countUP(X,o+1);\n",
    "        sX=sum(X);\n",
    "        if(sX>o || sX<2)\n",
    "            continue\n",
    "        endif\n",
    "        L(count)=X;\n",
    "        count=count+1;\n",
    "    endwhile\n",
    "    t=reshape(cell2mat(L),nv,[])';\n",
    "endfunction\n",
    "\n",
    "function X=addNonlinearFeatures(X,order=5)\n",
    "    nv=size(X,2)-1;\n",
    "    m=size(X,1);\n",
    "    T=nlTerms(nv,order);\n",
    "    for i=1:size(T,1)\n",
    "        f=ones(m,1);\n",
    "        for j=1:nv\n",
    "            if(T(i,j)~=0)\n",
    "                f=f.*(X(:,j+1).^T(i,j));\n",
    "            endif\n",
    "        endfor\n",
    "        X(:,end+1)=f;\n",
    "    endfor\n",
    "endfunction"
   ]
  },
  {
   "cell_type": "markdown",
   "id": "64bf3a82",
   "metadata": {},
   "source": [
    "### Hypothesis function (Binary Logistic Regression)\n",
    "\n",
    "$$ f_\\theta([X]_i)=logistic\\left(\\sum_jx_{ij}\\theta_j\\right)=\\frac{1}{1+e^{-\\left(\\sum_jx_{ij}\\theta_j\\right)}} $$"
   ]
  },
  {
   "cell_type": "code",
   "execution_count": 3,
   "id": "8d2cb6fd",
   "metadata": {},
   "outputs": [],
   "source": [
    "function f=hypothesisFunction(X,theta)\n",
    "    f=1./(1+exp(-X*theta));\n",
    "endfunction"
   ]
  },
  {
   "cell_type": "markdown",
   "id": "bf081259",
   "metadata": {},
   "source": [
    "### Prediction function (Binary Logistic Regression)\n",
    "Taking 0.5 as the threshold probability.\n",
    "\n",
    "$$ g_\\theta([X])=\\begin{cases}\n",
    " & 1, \\text{ if } logistic\\left(\\sum_jx_{ij}\\theta_j\\right) \\geq 0.5\\\\\n",
    " & 0, \\text{ if } logistic\\left(\\sum_jx_{ij}\\theta_j\\right) <  0.5\n",
    "\\end{cases}$$"
   ]
  },
  {
   "cell_type": "code",
   "execution_count": 4,
   "id": "6b644ba6",
   "metadata": {},
   "outputs": [],
   "source": [
    "function y=predictionFunction(X,theta,threshold=0.5)\n",
    "    y=(hypothesisFunction(X,theta)>=threshold);\n",
    "endfunction"
   ]
  },
  {
   "cell_type": "markdown",
   "id": "d7abfb62",
   "metadata": {},
   "source": [
    "### Cost Function and its gradient (Regularized)\n",
    "\n",
    "$$\\begin{aligned}\n",
    "J([X],y,\\theta) & = \\frac{1}{m}\\sum_{i=1}^m{cost(f_\\theta([x]_i),y_i)}+\\frac{\\lambda}{2m}\\sum_{i=2}^m{\\theta_i^2} \\\\\n",
    "& = -\\frac{1}{m}\\sum_{i=1}^m{\\left[y_ilog(f_\\theta([x]_i))+(1-y_i)log(1-f_\\theta([x]_i)) \\right]} +\\frac{\\lambda}{2m}\\sum_{i=2}^m{\\theta_i^2} \\\\\n",
    "\\nabla J([X],y,\\theta)_{j=1} & = \\frac{1}{m}\\sum_{i=1}^m{(f_\\theta([x]_i)-y_i)x_{ij}}  \\\\\n",
    "\\nabla J([X],y,\\theta)_{j=2..n} & = \\frac{1}{m}\\sum_{i=1}^m{(f_\\theta([x]_i)-y_i)x_{ij}} + \\frac{\\lambda}{m}\\theta_j\n",
    "\\end{aligned}\n",
    "$$\n",
    "Where,\n",
    "$$ cost(f_\\theta([x]_i),y_i) = \\begin{cases}\n",
    " & -log(f_\\theta([x]_i)), &\\text{ if } y_i = 1\\\\\n",
    " & -log(1-f_\\theta([x]_i)), &\\text{ if } y_i = 0\n",
    "\\end{cases}$$"
   ]
  },
  {
   "cell_type": "code",
   "execution_count": 5,
   "id": "4be67028",
   "metadata": {},
   "outputs": [],
   "source": [
    "function [J,gradJ]=costFunctionWithGrad(X,y,theta,lambda=0.1)\n",
    "    h=hypothesisFunction(X,theta);\n",
    "    m=length(y);\n",
    "    J = 1/m*sum(-y.*log(h)-(1-y).*log(1-h))+lambda/2/m*sum(theta(2:end).^2);\n",
    "    gradJ = 1/m*sum((h-y).*X)'+lambda/m*(theta-[theta(1);zeros(length(theta)-1,1)]);\n",
    "endfunction"
   ]
  },
  {
   "cell_type": "markdown",
   "id": "df3fc77e",
   "metadata": {},
   "source": [
    "### Model parameter estimation\n",
    "Minimizing cost by utilizing gradient information"
   ]
  },
  {
   "cell_type": "code",
   "execution_count": 6,
   "id": "a7f415fc",
   "metadata": {},
   "outputs": [],
   "source": [
    "function [f,theta,cost]=modelFit(X,y,initial_theta,lambda=0.1,max_iterations=400)\n",
    "    options = optimset('GradObj', 'on', 'MaxIter', max_iterations, 'AutoScaling','on');\n",
    "    [theta, cost] = fminunc(@(t)(costFunctionWithGrad(X, y, t,lambda)), initial_theta, options);\n",
    "    f=@(X) predictionFunction(X,theta);\n",
    "endfunction"
   ]
  },
  {
   "cell_type": "markdown",
   "id": "d9141d43",
   "metadata": {},
   "source": [
    "### Plot Data"
   ]
  },
  {
   "cell_type": "code",
   "execution_count": 7,
   "id": "6edcce42",
   "metadata": {},
   "outputs": [],
   "source": [
    "function plotData(X,y)\n",
    "    d=size(X,2)-1;\n",
    "    if d>3 || d==1\n",
    "        disp(\"Cannot visualize higer dimensional data. Skipping.\")\n",
    "        return        \n",
    "    endif \n",
    "    y1=find(y==1);\n",
    "    y0=find(y==0);\n",
    "    if d==2\n",
    "        figure\n",
    "        hold on\n",
    "        scatter(X(y1,2),X(y1,3),\"Filled\");\n",
    "        scatter(X(y0,2),X(y0,3),\"Filled\");\n",
    "    else\n",
    "        scatter3(X(y1,2),X(y1,3),X(y1,4),\"Filled\");\n",
    "        hold on\n",
    "        scatter3(X(y0,2),X(y0,3),X(y0,4),\"Filled\");\n",
    "        zlabel('x3')\n",
    "    endif\n",
    "    xlabel('x1')\n",
    "    ylabel('x2')\n",
    "    title('Data')\n",
    "    legend('Positive','Negative')\n",
    "    hold off\n",
    "endfunction"
   ]
  },
  {
   "cell_type": "markdown",
   "id": "0674480b",
   "metadata": {},
   "source": [
    "### Plot Decision Boundary\n",
    "Contour or isosurface plot at value 0.5 for hypothesis function or Contour or isosurface plot at value 0 for the inner linear regression."
   ]
  },
  {
   "cell_type": "code",
   "execution_count": 8,
   "id": "91982401",
   "metadata": {},
   "outputs": [],
   "source": [
    "function plotDecisionBoundary(X,y,hFunction)\n",
    "    d=size(X,2)-1;\n",
    "    if d>3 || d==1\n",
    "        disp(\"Cannot visualize higer dimensional data. Skipping.\")\n",
    "        return        \n",
    "    endif \n",
    "    x_min=min(X);\n",
    "    x_max=max(X);\n",
    "    y1=find(y==1);\n",
    "    y0=find(y==0);\n",
    "    x1_gp=linspace(x_min(2),x_max(2),25);\n",
    "    x2_gp=linspace(x_min(3),x_max(3),25);\n",
    "    if d==2\n",
    "        [x1,x2]=meshgrid(x1_gp,x2_gp);\n",
    "        x1x2=[ones(numel(x1),1) x1(:) x2(:)];\n",
    "        p_x1x2=hFunction(x1x2);\n",
    "        p=reshape(p_x1x2,size(x1));\n",
    "        figure\n",
    "        hold on\n",
    "        scatter(X(y1,2),X(y1,3),\"Filled\");\n",
    "        scatter(X(y0,2),X(y0,3),\"Filled\");\n",
    "        contour(x1,x2,p,[0.5 0.5]);\n",
    "    else\n",
    "        x3_gp=linspace(x_min(4),x_max(4),25);\n",
    "        [x1,x2,x3]=meshgrid(x1_gp,x2_gp,x3_gp);\n",
    "        x1x2x3=[ones(numel(x1),1) x1(:) x2(:) x3(:)];\n",
    "        p_x1x2x3=hFunction(x1x2x3);\n",
    "        p=reshape(p_x1x2x3,size(x1));\n",
    "        scatter3(X(y1,2),X(y1,3),X(y1,4),\"Filled\");\n",
    "        hold on\n",
    "        scatter3(X(y0,2),X(y0,3),X(y0,4),\"Filled\");\n",
    "        isosurface(x1,x2,x3,p,0.5);\n",
    "        zlabel('x3')\n",
    "    endif\n",
    "    xlabel('x1')\n",
    "    ylabel('x2')\n",
    "    title('Decision Boundary')\n",
    "    legend('Positive','Negative','Decision Boundary','location','bestoutside')\n",
    "    hold off\n",
    "endfunction"
   ]
  },
  {
   "cell_type": "markdown",
   "id": "c0f60c18",
   "metadata": {},
   "source": [
    "### Confusion Matrix\n",
    "$$ \\text{True Positive (TP) = Num. of True predictions where target is True} $$\n",
    "$$ \\text{True Negative (TN) = Num. of False predictions where target is False} $$\n",
    "$$ \\text{False Positive (FP) = Num. of True predictions where target is False} $$\n",
    "$$ \\text{False Negative (FN) = Num. of False predictions where target is True} $$\n",
    "\n",
    "|  |(+) Prediction | (-) Prediction |\n",
    "|:---:|:---:|:---:|\n",
    "|(+) Actual | TP | FN |\n",
    "|(-) Actual | FP | TN |\n",
    "\n"
   ]
  },
  {
   "cell_type": "code",
   "execution_count": 9,
   "id": "28bf8933",
   "metadata": {},
   "outputs": [],
   "source": [
    "function C=ConfusionMatrix(p,t)\n",
    "    TruePositive=sum(p==t & t==1);\n",
    "    TrueNeagtive=sum(p==t & t==0);\n",
    "    FalsePositive=sum(p~=t & t==0);\n",
    "    FalseNegative=sum(p~=t & t==1);\n",
    "    C=[TruePositive  , FalseNegative; \n",
    "       FalsePositive , TrueNeagtive];\n",
    "endfunction\n",
    "\n",
    "function printCell(c)\n",
    "    printf ([sprintf(\"%%%is\", max (cellfun (@numel, c))+8) \"\\n\"], c'{:})\n",
    "endfunction\n",
    "\n",
    "function prettyprintConfusionMatrix(C)\n",
    "    Z=cell(3);\n",
    "    Z(1,1)=\"|\";\n",
    "    Z(1,2)=\"Pred. (+) |\";\n",
    "    Z(1,3)=\"Pred. (-) |\";\n",
    "    Z(2,1)=\"Actual (+) |\";\n",
    "    Z(3,1)=\"Actual (-) |\";\n",
    "    Z(2,2)=num2str(C(1,1),\"%-8d |\");\n",
    "    Z(2,3)=num2str(C(1,2),\"%-8d |\");\n",
    "    Z(3,2)=num2str(C(2,1),\"%-8d |\");\n",
    "    Z(3,3)=num2str(C(2,2),\"%-8d |\");\n",
    "    printCell(Z);\n",
    "endfunction"
   ]
  },
  {
   "cell_type": "markdown",
   "id": "84ff990d",
   "metadata": {},
   "source": [
    "### Main Program\n",
    "\n",
    "Reads a csv file having last column as the target class and performs binary logistic regression analysis."
   ]
  },
  {
   "cell_type": "code",
   "execution_count": 10,
   "id": "019d1268",
   "metadata": {},
   "outputs": [
    {
     "name": "stdout",
     "output_type": "stream",
     "text": [
      "First 10 entries in the file: Data_LogisticRegression_NonlinearBoundary_Xy.csv\n",
      "    7.6000    4.0000         0\n",
      "    2.1000    8.1000    1.0000\n",
      "    8.5000    9.7000    1.0000\n",
      "   10.0000    5.3000    1.0000\n",
      "    1.3000    4.0000         0\n",
      "    4.8000    7.3000         0\n",
      "    2.0000    3.2000         0\n",
      "    7.8000    4.2000         0\n",
      "    1.6000    8.7000    1.0000\n",
      "    7.7000    4.4000         0\n"
     ]
    }
   ],
   "source": [
    "format short\n",
    "[fname,fpath]=uigetfile(\"*.csv\");\n",
    "fileLoc=fullfile(fpath,fname);\n",
    "Xy=csvread(fileLoc,1,0);\n",
    "printf(\"First 10 entries in the file: %s\\n\",fname)\n",
    "disp(Xy(1:10,:));\n",
    "y=Xy(:,end);\n",
    "X=[ones(length(y),1) Xy(:,1:end-1)];"
   ]
  },
  {
   "cell_type": "code",
   "execution_count": 11,
   "id": "5b82791e",
   "metadata": {},
   "outputs": [
    {
     "data": {
      "image/png": "[encoded data removed]",
      "text/plain": [
       "<IPython.core.display.Image object>"
      ]
     },
     "metadata": {},
     "output_type": "display_data"
    }
   ],
   "source": [
    "plotData(X,y)\n",
    "axis('equal')"
   ]
  },
  {
   "cell_type": "code",
   "execution_count": 12,
   "id": "0bb0331c",
   "metadata": {},
   "outputs": [],
   "source": [
    "NV=size(X,2)-1;\n",
    "X=addNonlinearFeatures(X,3);"
   ]
  },
  {
   "cell_type": "code",
   "execution_count": 13,
   "id": "205a7660",
   "metadata": {
    "scrolled": true
   },
   "outputs": [
    {
     "name": "stdout",
     "output_type": "stream",
     "text": [
      "Confusion Matrix:\n",
      "                   |        Pred. (+) |        Pred. (-) |\n",
      "        Actual (+) |         50       |         0        |\n",
      "        Actual (-) |         0        |         50       |\n"
     ]
    }
   ],
   "source": [
    "initial_theta=zeros(size(X,2),1);\n",
    "[fitM,theta,cost]=modelFit(X,y,initial_theta,lambda=10,max_iterations=10000);\n",
    "C=ConfusionMatrix(fitM(X),y);\n",
    "disp('Confusion Matrix:')\n",
    "prettyprintConfusionMatrix(C);"
   ]
  },
  {
   "cell_type": "code",
   "execution_count": 14,
   "id": "40e3dcce",
   "metadata": {},
   "outputs": [
    {
     "data": {
      "image/png": "[encoded data removed]",
      "text/plain": [
       "<IPython.core.display.Image object>"
      ]
     },
     "metadata": {},
     "output_type": "display_data"
    }
   ],
   "source": [
    "plotDecisionBoundary(X(:,1:NV+1),y,@(x) hypothesisFunction(addNonlinearFeatures(x,3),theta))\n",
    "axis('equal')"
   ]
  },
  {
   "cell_type": "code",
   "execution_count": 15,
   "id": "7920c69f",
   "metadata": {},
   "outputs": [
    {
     "name": "stdout",
     "output_type": "stream",
     "text": [
      "Cost = 0.092862\n",
      "----------------------------\n",
      "10th design point regressors:\n",
      "   1.0000   7.7000   4.4000\n",
      "Predicted value of Dependent Variable = 0\n",
      "Target value of Dependent Variable = 0\n"
     ]
    }
   ],
   "source": [
    "printf(\"Cost = %g\\n\",cost)\n",
    "disp(\"----------------------------\")\n",
    "disp(\"10th design point regressors:\")\n",
    "disp(X(10,1:NV+1))\n",
    "printf(\"Predicted value of Dependent Variable = %g\\n\",fitM(X(10,:)))\n",
    "printf(\"Target value of Dependent Variable = %g\\n\",y(10))"
   ]
  }
 ],
 "metadata": {
  "kernelspec": {
   "display_name": "Octave",
   "language": "octave",
   "name": "octave"
  },
  "language_info": {
   "file_extension": ".m",
   "help_links": [
    {
     "text": "GNU Octave",
     "url": "https://www.gnu.org/software/octave/support.html"
    },
    {
     "text": "Octave Kernel",
     "url": "https://github.com/Calysto/octave_kernel"
    },
    {
     "text": "MetaKernel Magics",
     "url": "https://metakernel.readthedocs.io/en/latest/source/README.html"
    }
   ],
   "mimetype": "text/x-octave",
   "name": "octave",
   "version": "7.1.0"
  }
 },
 "nbformat": 4,
 "nbformat_minor": 5
}
