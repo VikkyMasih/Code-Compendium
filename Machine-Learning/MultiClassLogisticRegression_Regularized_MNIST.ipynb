{
 "cells": [
  {
   "cell_type": "markdown",
   "id": "7b8dc40d",
   "metadata": {},
   "source": [
    "## Logistic Regression\n",
    "\n",
    "Logistic regression is the process of estimating the **relationship** between **probability of a discreet event** and the independent variables or the regressors.\n",
    "\n",
    "**Non-linear** decision boundary can be captured by linear logistic model by adding nonlinear features. This is because the model is linear with respect to the parameters. \n",
    "\n",
    "**Non-linear (Polynomial)** decision boundary can be captured by linear logistic model by adding nonlinear features. This is because the model is linear with respect to the parameters. \n",
    "\n",
    "**Regularization** is a method of controlling model complexity without removing features.\n",
    "\n",
    "**Multi-Class Logistic Regression** requires Multiple Binary Logistic Regression Analysis to differentiate classes from each other.\n",
    "\n",
    "----\n",
    "### Logistic Model (Linear decision boundary)\n",
    "\n",
    "$$p_i=logistic\\left(\\sum_jx_{ij}\\theta_j\\right)$$\n",
    "Where,\n",
    "$$ logistic(z)=\\frac{1}{1+e^{-z}} $$\n",
    "\n",
    "|Symbol | Description |\n",
    "| :---: | :--- |\n",
    "| $p_i$ | Probability of an event occuring |\n",
    "| $x_{ij}$ | Design matrix containing regressors of the training data |\n",
    "| $\\theta_j$ | Coefficients of the inner linear model |\n"
   ]
  },
  {
   "cell_type": "code",
   "execution_count": 1,
   "id": "a511855e",
   "metadata": {},
   "outputs": [
    {
     "name": "stdout",
     "output_type": "stream",
     "text": [
      "----------------------------------------------------------------------\n",
      "GNU Octave Version: 7.1.0 (hg id: 04120d65778a)\n",
      "GNU Octave License: GNU General Public License\n",
      "Operating System: MINGW32_NT-6.2 Windows 6.2  x86_64\n",
      "----------------------------------------------------------------------\n"
     ]
    }
   ],
   "source": [
    "clc\n",
    "close all\n",
    "clear all\n",
    "format long\n",
    "ver Octave"
   ]
  },
  {
   "cell_type": "markdown",
   "id": "64bf3a82",
   "metadata": {},
   "source": [
    "### Hypothesis function (Binary Logistic Regression)\n",
    "\n",
    "$$ f_\\theta([X]_i)=logistic\\left(\\sum_jx_{ij}\\theta_j\\right)=\\frac{1}{1+e^{-\\left(\\sum_jx_{ij}\\theta_j\\right)}} $$"
   ]
  },
  {
   "cell_type": "code",
   "execution_count": 2,
   "id": "8d2cb6fd",
   "metadata": {},
   "outputs": [],
   "source": [
    "function f=hypothesisFunction(X,theta)\n",
    "    f=1./(1+exp(-X*theta));\n",
    "endfunction"
   ]
  },
  {
   "cell_type": "markdown",
   "id": "bf081259",
   "metadata": {},
   "source": [
    "### Prediction function (Binary Logistic Regression)\n",
    "Taking 0.5 as the threshold probability.\n",
    "\n",
    "$$ g_\\theta([X])=\\begin{cases}\n",
    " & 1, \\text{ if } logistic\\left(\\sum_jx_{ij}\\theta_j\\right) \\geq 0.5\\\\\n",
    " & 0, \\text{ if } logistic\\left(\\sum_jx_{ij}\\theta_j\\right) <  0.5\n",
    "\\end{cases}$$"
   ]
  },
  {
   "cell_type": "code",
   "execution_count": 3,
   "id": "6af287c0",
   "metadata": {},
   "outputs": [],
   "source": [
    "function y=predictionFunction(X,theta,threshold=0.5)\n",
    "    y=(hypothesisFunction(X,theta)>=threshold);\n",
    "endfunction"
   ]
  },
  {
   "cell_type": "markdown",
   "id": "7192f41f",
   "metadata": {},
   "source": [
    "### Prediction function (Multiclass Logistic Regression - Maximum probability)\n",
    "\n",
    "Select class with maximum predicted probability."
   ]
  },
  {
   "cell_type": "code",
   "execution_count": 4,
   "id": "6b644ba6",
   "metadata": {},
   "outputs": [],
   "source": [
    "function y=predictionFunctionMulti(X,theta)\n",
    "    [~,y]=max(hypothesisFunction(X,theta),[],2);\n",
    "endfunction"
   ]
  },
  {
   "cell_type": "markdown",
   "id": "d7abfb62",
   "metadata": {},
   "source": [
    "### Cost Function and its gradient (Regularized)\n",
    "\n",
    "$$\\begin{aligned}\n",
    "J([X],y,\\theta) & = \\frac{1}{m}\\sum_{i=1}^m{cost(f_\\theta([x]_i),y_i)}+\\frac{\\lambda}{2m}\\sum_{i=2}^m{\\theta_i^2} \\\\\n",
    "& = -\\frac{1}{m}\\sum_{i=1}^m{\\left[y_ilog(f_\\theta([x]_i))+(1-y_i)log(1-f_\\theta([x]_i)) \\right]} +\\frac{\\lambda}{2m}\\sum_{i=2}^m{\\theta_i^2} \\\\\n",
    "\\nabla J([X],y,\\theta)_{j=1} & = \\frac{1}{m}\\sum_{i=1}^m{(f_\\theta([x]_i)-y_i)x_{ij}}  \\\\\n",
    "\\nabla J([X],y,\\theta)_{j=2..n} & = \\frac{1}{m}\\sum_{i=1}^m{(f_\\theta([x]_i)-y_i)x_{ij}} + \\frac{\\lambda}{m}\\theta_j\n",
    "\\end{aligned}\n",
    "$$\n",
    "Where,\n",
    "$$ cost(f_\\theta([x]_i),y_i) = \\begin{cases}\n",
    " & -log(f_\\theta([x]_i)), &\\text{ if } y_i = 1\\\\\n",
    " & -log(1-f_\\theta([x]_i)), &\\text{ if } y_i = 0\n",
    "\\end{cases}$$"
   ]
  },
  {
   "cell_type": "code",
   "execution_count": 5,
   "id": "4be67028",
   "metadata": {},
   "outputs": [],
   "source": [
    "function [J,gradJ]=costFunctionWithGrad(X,y,theta,lambda=0.1)\n",
    "    h=hypothesisFunction(X,theta);\n",
    "    m=length(y);\n",
    "    J = 1/m*sum(-y.*log(h)-(1-y).*log(1-h))+lambda/2/m*sum(theta(2:end).^2);\n",
    "    gradJ = 1/m*sum((h-y).*X)'+lambda/m*(theta-[theta(1);zeros(length(theta)-1,1)]);\n",
    "endfunction"
   ]
  },
  {
   "cell_type": "markdown",
   "id": "df3fc77e",
   "metadata": {},
   "source": [
    "### Model parameter estimation\n",
    "Minimizing cost by utilizing gradient information"
   ]
  },
  {
   "cell_type": "code",
   "execution_count": 6,
   "id": "a7f415fc",
   "metadata": {},
   "outputs": [],
   "source": [
    "function [f,theta,cost]=modelFit(X,y,initial_theta,lambda=0.1,max_iterations=400)\n",
    "    options = optimset('GradObj', 'on', 'MaxIter', max_iterations, 'AutoScaling','on');\n",
    "    [theta, cost] = fminunc(@(t)(costFunctionWithGrad(X, y, t,lambda)), initial_theta, options);\n",
    "    f=@(X) predictionFunction(X,theta);\n",
    "endfunction"
   ]
  },
  {
   "cell_type": "markdown",
   "id": "c0f60c18",
   "metadata": {},
   "source": [
    "### Confusion Matrix (Binary Classification)\n",
    "$$ \\text{True Positive (TP) = Num. of True predictions where target is True} $$\n",
    "$$ \\text{True Negative (TN) = Num. of False predictions where target is False} $$\n",
    "$$ \\text{False Positive (FP) = Num. of True predictions where target is False} $$\n",
    "$$ \\text{False Negative (FN) = Num. of False predictions where target is True} $$\n",
    "\n",
    "|  |(+) Prediction | (-) Prediction |\n",
    "|:---:|:---:|:---:|\n",
    "|(+) Actual | TP | FN |\n",
    "|(-) Actual | FP | TN |\n",
    "\n"
   ]
  },
  {
   "cell_type": "code",
   "execution_count": 7,
   "id": "28bf8933",
   "metadata": {},
   "outputs": [],
   "source": [
    "function C=ConfusionMatrix(p,t)\n",
    "    TruePositive=sum(p==t & t==1);\n",
    "    TrueNeagtive=sum(p==t & t==0);\n",
    "    FalsePositive=sum(p~=t & t==0);\n",
    "    FalseNegative=sum(p~=t & t==1);\n",
    "    C=[TruePositive  , FalseNegative; \n",
    "       FalsePositive , TrueNeagtive];\n",
    "endfunction"
   ]
  },
  {
   "cell_type": "markdown",
   "id": "9f9ea848",
   "metadata": {},
   "source": [
    "### Multi-class Confusion Matrix"
   ]
  },
  {
   "cell_type": "code",
   "execution_count": 8,
   "id": "df1ea8c3",
   "metadata": {},
   "outputs": [],
   "source": [
    "function [C,CID]=MulticlassConfusionMatrix(p,t)\n",
    "    CID=[];\n",
    "    CID=unique([unique(t)(:);unique(p)(:)]);\n",
    "    if isnumeric(CID)\n",
    "        CID=num2cell(CID);\n",
    "    endif\n",
    "    nc=length(CID);\n",
    "    C=zeros(nc);\n",
    "    for i=1:nc\n",
    "        for j=1:nc\n",
    "            C(i,j)=sum(t==CID{i} & p==CID{j});\n",
    "        end\n",
    "    end\n",
    "endfunction"
   ]
  },
  {
   "cell_type": "markdown",
   "id": "8fee5860",
   "metadata": {},
   "source": [
    "### MNIST Database Reader\n",
    "The MNIST database of handwritten digits has a training set of 60,000 examples, and a test set of 10,000 examples. The digits have been size-normalized and centered in a fixed-size image."
   ]
  },
  {
   "cell_type": "code",
   "execution_count": 9,
   "id": "10f2eeac",
   "metadata": {},
   "outputs": [],
   "source": [
    "function [imageData,imageSize]=read_MNIST_Images(fileLoc)\n",
    "    if endsWith(fileLoc,\".idx3-ubyte\")==1\n",
    "        [~,fn,fe]=fileparts(fileLoc);\n",
    "        printf(\"Reading: %s\\n\",[fn,fe]);\n",
    "        inFile=fopen(fileLoc,\"r\");\n",
    "        header=fread(inFile,4,\"uint32\",0,\"ieee-be\");\n",
    "        [data,count]=fread(inFile,header(2)*header(3)*header(4),...\n",
    "                            \"uint8\",0,\"ieee-be\");\n",
    "        fclose(inFile);\n",
    "        if count~=header(2)*header(3)*header(4)\n",
    "            disp(\"Error reading data\")\n",
    "        endif\n",
    "        imageData=reshape(data,header(3)*header(4),[])';\n",
    "        imageSize=[header(3) header(4)];\n",
    "    else\n",
    "        disp(\"Can only read *.idx3-ubyte files\");\n",
    "    endif\n",
    "endfunction\n",
    "\n",
    "function targetLabelsData=read_MNIST_Labels(fileLoc)\n",
    "    if endsWith(fileLoc,\".idx1-ubyte\")==1\n",
    "        [~,fn,fe]=fileparts(fileLoc);\n",
    "        printf(\"Reading: %s\\n\",[fn,fe]);\n",
    "        inFile=fopen(fileLoc,\"r\");\n",
    "        header=fread(inFile,2,\"uint32\",0,\"ieee-be\");\n",
    "        [data,count]=fread(inFile,header(2),...\n",
    "                            \"uint8\",0,\"ieee-be\");\n",
    "        fclose(inFile);\n",
    "        if count~=header(2)\n",
    "            disp(\"Error reading data\")\n",
    "        endif\n",
    "        targetLabelsData=data;\n",
    "    else\n",
    "        disp(\"Can only read *.idx1-ubyte files\");\n",
    "    endif\n",
    "endfunction"
   ]
  },
  {
   "cell_type": "markdown",
   "id": "16831494",
   "metadata": {},
   "source": [
    "### Data Visualization"
   ]
  },
  {
   "cell_type": "code",
   "execution_count": 10,
   "id": "257545c0",
   "metadata": {},
   "outputs": [],
   "source": [
    "function showImagesLabels(indices,imageData,labelsData,imageSize)\n",
    "    n=numel(indices);\n",
    "    nc=ceil(sqrt(n));\n",
    "    nr=ceil(n/nc);\n",
    "\n",
    "    img=ones(imageSize.*[nr,nc])*255;\n",
    "    for k=1:n\n",
    "        c=mod((k-1),nc)*imageSize(2)+1;\n",
    "        r=floor((k-1)/nc)*imageSize(1)+1;\n",
    "        img(r:r+imageSize(1)-1,c:c+imageSize(2)-1)=255-reshape(imageData(indices(k),:),imageSize')';\n",
    "    endfor\n",
    "    colormap(\"gray\");\n",
    "    imagesc(img);\n",
    "    xticks([])\n",
    "    yticks([])\n",
    "    title(\"Image preview\");\n",
    "    disp(\"Target Labels:\");\n",
    "    disp(reshape(labelsData(indices),[nr,nc]')');\n",
    "endfunction"
   ]
  },
  {
   "cell_type": "markdown",
   "id": "cb7e0a98",
   "metadata": {},
   "source": [
    "### Preety print table"
   ]
  },
  {
   "cell_type": "code",
   "execution_count": 11,
   "id": "ae4851f7",
   "metadata": {},
   "outputs": [],
   "source": [
    "function o=stringCenter(s,w)\n",
    "    if iscell(s)~=1\n",
    "        fs=ceil((w-length(s))/2);\n",
    "        o=[repelem(\" \",fs) s repelem(\" \",w-fs-length(s))];\n",
    "    else\n",
    "        o=cell(length(s),1);\n",
    "        for k=1:length(s)\n",
    "            fs=ceil((w-length(s{k}))/2);\n",
    "            o{k}=[repelem(\" \",fs) s{k} repelem(\" \",w-fs-length(s{k}))];\n",
    "        endfor\n",
    "    endif\n",
    "endfunction\n",
    "function prettyPrintTable(T,rn,cn,rh,ch,cw=8,f=\"%i\")\n",
    "    c=size(T,2);\n",
    "    rhl=floor(size(T,1)/2+0.5);\n",
    "    cnm=max(cellfun(@numel,cn));\n",
    "    rnm=max(cellfun(@numel,rn));\n",
    "    cw=max([cw cnm rnm max(arrayfun(@(x) numel(num2str(x,f)),T(:),\"UniformOutput\", true))]);\n",
    "    tw=c*cw+c+1;\n",
    "    printf([repelem(' ',length(rh)+1+1+cw) '+' repelem('-',tw-2) '+\\n']);\n",
    "    printf([repelem(' ',length(rh)+1+1+cw) '|' stringCenter(ch,tw-2) '|\\n'])\n",
    "    printf([repelem(' ',length(rh)+1+1+cw) '+' repmat([repelem('-',cw) '+'],1,c) '\\n'])\n",
    "    printf([repelem(' ',length(rh)+1+1+cw) '|' sprintf(sprintf(\"%%%is|\",cw),stringCenter(cn,cw){:}) '\\n'])\n",
    "    printf(['+' repelem('-',length(rh)) '+' repelem('-',cw) '+' repmat([repelem('-',cw) '+'],1,c) '\\n'])\n",
    "    for k=1:length(rn)\n",
    "        if(k~=rhl)\n",
    "            p=['|' repelem(' ',length(rh)) '|' stringCenter(rn{k},cw) '|'];\n",
    "        else\n",
    "            p=['|' rh '|' stringCenter(rn{k},cw) '|'];\n",
    "        endif\n",
    "        for j=1:length(cn)           \n",
    "            p=strcat(p,sprintf(sprintf(\"%%%is|\",cw),stringCenter(sprintf(f,T(k,j)),cw)));\n",
    "        endfor\n",
    "        printf([p '\\n'])\n",
    "    endfor\n",
    "        printf(['+' repelem('-',length(rh)) '+' repelem('-',cw) '+' repmat([repelem('-',cw) '+'],1,c) '\\n'])\n",
    "endfunction"
   ]
  },
  {
   "cell_type": "markdown",
   "id": "84ff990d",
   "metadata": {},
   "source": [
    "### Main Program\n",
    "\n",
    "Reads MNIST database and performs multi-class logistic regression analysis."
   ]
  },
  {
   "cell_type": "code",
   "execution_count": 12,
   "id": "019d1268",
   "metadata": {},
   "outputs": [
    {
     "name": "stdout",
     "output_type": "stream",
     "text": [
      "Reading MNIST Training Database\n",
      "Reading: train-images.idx3-ubyte\n",
      "Reading: train-labels.idx1-ubyte\n",
      "First 100 Entries:\n",
      "Target Labels:\n",
      "   5   0   4   1   9   2   1   3   1   4\n",
      "   3   5   3   6   1   7   2   8   6   9\n",
      "   4   0   9   1   1   2   4   3   2   7\n",
      "   3   8   6   9   0   5   6   0   7   6\n",
      "   1   8   7   9   3   9   8   5   9   3\n",
      "   3   0   7   4   9   8   0   9   4   1\n",
      "   4   4   6   0   4   5   6   1   0   0\n",
      "   1   7   1   6   3   0   2   1   1   7\n",
      "   9   0   2   6   7   8   3   9   0   4\n",
      "   6   7   4   6   8   0   7   8   3   1\n"
     ]
    },
    {
     "data": {
      "image/png": "[encoded data removed]",
      "text/plain": [
       "<IPython.core.display.Image object>"
      ]
     },
     "metadata": {},
     "output_type": "display_data"
    }
   ],
   "source": [
    "format short\n",
    "disp(\"Reading MNIST Training Database\");\n",
    "[fname,fpath]=uigetfile(\"*.idx3-ubyte\",\"Training Image Database\");\n",
    "fileLocImages=fullfile(fpath,fname);\n",
    "[imageData imageSize]=read_MNIST_Images(fileLocImages);\n",
    "\n",
    "[fname,fpath]=uigetfile(\"*.idx1-ubyte\",\"Training Label Database\");\n",
    "fileLocLabels=fullfile(fpath,fname);\n",
    "labelsData=read_MNIST_Labels(fileLocLabels);\n",
    "\n",
    "disp(\"First 100 Entries:\");\n",
    "showImagesLabels(1:100,imageData,labelsData,imageSize);"
   ]
  },
  {
   "cell_type": "code",
   "execution_count": 13,
   "id": "5b82791e",
   "metadata": {},
   "outputs": [
    {
     "data": {
      "image/png": "[encoded data removed]",
      "text/plain": [
       "<IPython.core.display.Image object>"
      ]
     },
     "metadata": {},
     "output_type": "display_data"
    }
   ],
   "source": [
    "hist(labelsData,(0:9))\n",
    "xticks(0:9)\n",
    "grid(\"on\")\n",
    "title(\"Label histogram\");\n",
    "xlabel(\"Label\");\n",
    "ylabel(\"Count\");"
   ]
  },
  {
   "cell_type": "markdown",
   "id": "c01dd9a4",
   "metadata": {},
   "source": [
    "### Training Phase"
   ]
  },
  {
   "cell_type": "code",
   "execution_count": 14,
   "id": "205a7660",
   "metadata": {
    "scrolled": false
   },
   "outputs": [
    {
     "name": "stdout",
     "output_type": "stream",
     "text": [
      "----------------------------\n",
      "Confusion Matrix for digit: 0\n",
      "                +-----------------+\n",
      "                |    Predicted    |\n",
      "                +--------+--------+\n",
      "                |    +   |    -   |\n",
      "+------+--------+--------+--------+\n",
      "|Actual|    +   |  5698  |   225  |\n",
      "|      |    -   |   149  |  53928 |\n",
      "+------+--------+--------+--------+\n",
      "Cost = 0.0225654\n",
      "----------------------------\n",
      "Confusion Matrix for digit: 1\n",
      "                +-----------------+\n",
      "                |    Predicted    |\n",
      "                +--------+--------+\n",
      "                |    +   |    -   |\n",
      "+------+--------+--------+--------+\n",
      "|Actual|    +   |  6558  |   184  |\n",
      "|      |    -   |   226  |  53032 |\n",
      "+------+--------+--------+--------+\n",
      "Cost = 0.0246339\n",
      "----------------------------\n",
      "Confusion Matrix for digit: 2\n",
      "                +-----------------+\n",
      "                |    Predicted    |\n",
      "                +--------+--------+\n",
      "                |    +   |    -   |\n",
      "+------+--------+--------+--------+\n",
      "|Actual|    +   |  5172  |   786  |\n",
      "|      |    -   |   303  |  53739 |\n",
      "+------+--------+--------+--------+\n",
      "Cost = 0.0644379\n",
      "----------------------------\n",
      "Confusion Matrix for digit: 3\n",
      "                +-----------------+\n",
      "                |    Predicted    |\n",
      "                +--------+--------+\n",
      "                |    +   |    -   |\n",
      "+------+--------+--------+--------+\n",
      "|Actual|    +   |  5148  |   983  |\n",
      "|      |    -   |   402  |  53467 |\n",
      "+------+--------+--------+--------+\n",
      "Cost = 0.0773686\n",
      "----------------------------\n",
      "Confusion Matrix for digit: 4\n",
      "                +-----------------+\n",
      "                |    Predicted    |\n",
      "                +--------+--------+\n",
      "                |    +   |    -   |\n",
      "+------+--------+--------+--------+\n",
      "|Actual|    +   |  5326  |   516  |\n",
      "|      |    -   |   345  |  53813 |\n",
      "+------+--------+--------+--------+\n",
      "Cost = 0.0471486\n",
      "----------------------------\n",
      "Confusion Matrix for digit: 5\n",
      "                +-----------------+\n",
      "                |    Predicted    |\n",
      "                +--------+--------+\n",
      "                |    +   |    -   |\n",
      "+------+--------+--------+--------+\n",
      "|Actual|    +   |  4466  |   955  |\n",
      "|      |    -   |   430  |  54149 |\n",
      "+------+--------+--------+--------+\n",
      "Cost = 0.0820848\n",
      "----------------------------\n",
      "Confusion Matrix for digit: 6\n",
      "                +-----------------+\n",
      "                |    Predicted    |\n",
      "                +--------+--------+\n",
      "                |    +   |    -   |\n",
      "+------+--------+--------+--------+\n",
      "|Actual|    +   |  5529  |   389  |\n",
      "|      |    -   |   284  |  53798 |\n",
      "+------+--------+--------+--------+\n",
      "Cost = 0.0360425\n",
      "----------------------------\n",
      "Confusion Matrix for digit: 7\n",
      "                +-----------------+\n",
      "                |    Predicted    |\n",
      "                +--------+--------+\n",
      "                |    +   |    -   |\n",
      "+------+--------+--------+--------+\n",
      "|Actual|    +   |  5769  |   496  |\n",
      "|      |    -   |   307  |  53428 |\n",
      "+------+--------+--------+--------+\n",
      "Cost = 0.0452574\n",
      "----------------------------\n",
      "Confusion Matrix for digit: 8\n",
      "                +-----------------+\n",
      "                |    Predicted    |\n",
      "                +--------+--------+\n",
      "                |    +   |    -   |\n",
      "+------+--------+--------+--------+\n",
      "|Actual|    +   |  4193  |  1658  |\n",
      "|      |    -   |   655  |  53494 |\n",
      "+------+--------+--------+--------+\n",
      "Cost = 0.111088\n",
      "----------------------------\n",
      "Confusion Matrix for digit: 9\n",
      "                +-----------------+\n",
      "                |    Predicted    |\n",
      "                +--------+--------+\n",
      "                |    +   |    -   |\n",
      "+------+--------+--------+--------+\n",
      "|Actual|    +   |  4756  |  1193  |\n",
      "|      |    -   |   783  |  53268 |\n",
      "+------+--------+--------+--------+\n",
      "Cost = 0.0961478\n",
      "----------------------------\n",
      "Training Accuracy = 87.6917%\n",
      "Time: 1720.9949295520782 seconds.\n",
      "\n"
     ]
    }
   ],
   "source": [
    "%%time\n",
    "X=[ones(length(labelsData),1) imageData/255];\n",
    "y=labelsData;\n",
    "T=zeros(size(X,2),10);\n",
    "count=0;\n",
    "disp(\"----------------------------\")\n",
    "for k=1:10\n",
    "    initial_theta=zeros(size(X,2),1);\n",
    "    [fitM,theta,cost]=modelFit(X,y==(k-1),initial_theta,lambda=1,max_iterations=1000);\n",
    "    T(:,k)=theta;\n",
    "    C=ConfusionMatrix(fitM(X),y==(k-1));\n",
    "    printf('Confusion Matrix for digit: %d\\n',k-1);\n",
    "    prettyPrintTable(C,{'+','-'},{'+','-'},\"Actual\",\"Predicted\",8,\"%i\")\n",
    "    printf(\"Cost = %g\\n\",cost)\n",
    "    count=count+C(1);\n",
    "    disp(\"----------------------------\")\n",
    "endfor\n",
    "printf(\"Training Accuracy = %g%%\\n\",count/length(labelsData)*100)"
   ]
  },
  {
   "cell_type": "code",
   "execution_count": 15,
   "id": "618c362f",
   "metadata": {},
   "outputs": [
    {
     "name": "stdout",
     "output_type": "stream",
     "text": [
      "Reading MNIST Testing Database\n",
      "Reading: t10k-images.idx3-ubyte\n",
      "Reading: t10k-labels.idx1-ubyte\n"
     ]
    }
   ],
   "source": [
    "disp(\"Reading MNIST Testing Database\");\n",
    "[fname,fpath]=uigetfile(\"*.idx3-ubyte\",\"Testing Image Database\");\n",
    "fileLocImages=fullfile(fpath,fname);\n",
    "[imageDataTest imageSizeTest]=read_MNIST_Images(fileLocImages);\n",
    "\n",
    "[fname,fpath]=uigetfile(\"*.idx1-ubyte\",\"Testing Label Database\");\n",
    "fileLocLabels=fullfile(fpath,fname);\n",
    "labelsDataTest=read_MNIST_Labels(fileLocLabels);"
   ]
  },
  {
   "cell_type": "markdown",
   "id": "1bf22dd1",
   "metadata": {},
   "source": [
    "### Testing Phase"
   ]
  },
  {
   "cell_type": "code",
   "execution_count": 16,
   "id": "1d914d97",
   "metadata": {},
   "outputs": [
    {
     "name": "stdout",
     "output_type": "stream",
     "text": [
      "----------------------------\n",
      "Confusion Matrix for digit: 0\n",
      "                +-----------------+\n",
      "                |    Predicted    |\n",
      "                +--------+--------+\n",
      "                |    +   |    -   |\n",
      "+------+--------+--------+--------+\n",
      "|Actual|    +   |   944  |   36   |\n",
      "|      |    -   |   44   |  8976  |\n",
      "+------+--------+--------+--------+\n",
      "----------------------------\n",
      "Confusion Matrix for digit: 1\n",
      "                +-----------------+\n",
      "                |    Predicted    |\n",
      "                +--------+--------+\n",
      "                |    +   |    -   |\n",
      "+------+--------+--------+--------+\n",
      "|Actual|    +   |  1107  |   28   |\n",
      "|      |    -   |   35   |  8830  |\n",
      "+------+--------+--------+--------+\n",
      "----------------------------\n",
      "Confusion Matrix for digit: 2\n",
      "                +-----------------+\n",
      "                |    Predicted    |\n",
      "                +--------+--------+\n",
      "                |    +   |    -   |\n",
      "+------+--------+--------+--------+\n",
      "|Actual|    +   |   883  |   149  |\n",
      "|      |    -   |   40   |  8928  |\n",
      "+------+--------+--------+--------+\n",
      "----------------------------\n",
      "Confusion Matrix for digit: 3\n",
      "                +-----------------+\n",
      "                |    Predicted    |\n",
      "                +--------+--------+\n",
      "                |    +   |    -   |\n",
      "+------+--------+--------+--------+\n",
      "|Actual|    +   |   871  |   139  |\n",
      "|      |    -   |   80   |  8910  |\n",
      "+------+--------+--------+--------+\n",
      "----------------------------\n",
      "Confusion Matrix for digit: 4\n",
      "                +-----------------+\n",
      "                |    Predicted    |\n",
      "                +--------+--------+\n",
      "                |    +   |    -   |\n",
      "+------+--------+--------+--------+\n",
      "|Actual|    +   |   885  |   97   |\n",
      "|      |    -   |   64   |  8954  |\n",
      "+------+--------+--------+--------+\n",
      "----------------------------\n",
      "Confusion Matrix for digit: 5\n",
      "                +-----------------+\n",
      "                |    Predicted    |\n",
      "                +--------+--------+\n",
      "                |    +   |    -   |\n",
      "+------+--------+--------+--------+\n",
      "|Actual|    +   |   735  |   157  |\n",
      "|      |    -   |   70   |  9038  |\n",
      "+------+--------+--------+--------+\n",
      "----------------------------\n",
      "Confusion Matrix for digit: 6\n",
      "                +-----------------+\n",
      "                |    Predicted    |\n",
      "                +--------+--------+\n",
      "                |    +   |    -   |\n",
      "+------+--------+--------+--------+\n",
      "|Actual|    +   |   879  |   79   |\n",
      "|      |    -   |   58   |  8984  |\n",
      "+------+--------+--------+--------+\n",
      "----------------------------\n",
      "Confusion Matrix for digit: 7\n",
      "                +-----------------+\n",
      "                |    Predicted    |\n",
      "                +--------+--------+\n",
      "                |    +   |    -   |\n",
      "+------+--------+--------+--------+\n",
      "|Actual|    +   |   932  |   96   |\n",
      "|      |    -   |   62   |  8910  |\n",
      "+------+--------+--------+--------+\n",
      "----------------------------\n",
      "Confusion Matrix for digit: 8\n",
      "                +-----------------+\n",
      "                |    Predicted    |\n",
      "                +--------+--------+\n",
      "                |    +   |    -   |\n",
      "+------+--------+--------+--------+\n",
      "|Actual|    +   |   722  |   252  |\n",
      "|      |    -   |   135  |  8891  |\n",
      "+------+--------+--------+--------+\n",
      "----------------------------\n",
      "Confusion Matrix for digit: 9\n",
      "                +-----------------+\n",
      "                |    Predicted    |\n",
      "                +--------+--------+\n",
      "                |    +   |    -   |\n",
      "+------+--------+--------+--------+\n",
      "|Actual|    +   |   827  |   182  |\n",
      "|      |    -   |   146  |  8845  |\n",
      "+------+--------+--------+--------+\n",
      "----------------------------\n",
      "Testing Accuracy = 87.85%\n"
     ]
    }
   ],
   "source": [
    "X=[ones(length(labelsDataTest),1) imageDataTest/255];\n",
    "y=labelsDataTest;\n",
    "p=hypothesisFunction(X,T);\n",
    "disp(\"----------------------------\")\n",
    "count=0;\n",
    "for k=1:10\n",
    "    C=ConfusionMatrix(p(:,k)>=0.5,y==(k-1));\n",
    "    printf('Confusion Matrix for digit: %d\\n',k-1);\n",
    "    prettyPrintTable(C,{'+','-'},{'+','-'},\"Actual\",\"Predicted\",8,\"%i\")\n",
    "    count=count+C(1);\n",
    "    disp(\"----------------------------\")\n",
    "endfor\n",
    "printf(\"Testing Accuracy = %g%%\\n\",count/length(labelsDataTest)*100)"
   ]
  },
  {
   "cell_type": "markdown",
   "id": "c770561d",
   "metadata": {},
   "source": [
    "### Prediction on first 100 Test Images"
   ]
  },
  {
   "cell_type": "code",
   "execution_count": 17,
   "id": "5faea795",
   "metadata": {},
   "outputs": [
    {
     "name": "stdout",
     "output_type": "stream",
     "text": [
      "Predicted labels for first 100 Test Images:\n",
      "   7   2   1   0   4   1   4   9   6   9\n",
      "   0   6   9   0   1   5   9   7   3   4\n",
      "   9   6   6   5   4   0   7   4   0   1\n",
      "   3   1   3   4   7   2   7   1   3   1\n",
      "   1   7   4   2   3   5   1   2   4   4\n",
      "   6   3   5   5   6   0   4   1   9   5\n",
      "   7   8   9   2   7   4   6   4   3   0\n",
      "   7   0   2   9   1   7   3   2   9   7\n",
      "   7   6   2   7   8   4   7   3   6   1\n",
      "   3   6   9   3   1   4   1   7   6   9\n",
      "Target Labels:\n",
      "   7   2   1   0   4   1   4   9   5   9\n",
      "   0   6   9   0   1   5   9   7   3   4\n",
      "   9   6   6   5   4   0   7   4   0   1\n",
      "   3   1   3   4   7   2   7   1   2   1\n",
      "   1   7   4   2   3   5   1   2   4   4\n",
      "   6   3   5   5   6   0   4   1   9   5\n",
      "   7   8   9   3   7   4   6   4   3   0\n",
      "   7   0   2   9   1   7   3   2   9   7\n",
      "   7   6   2   7   8   4   7   3   6   1\n",
      "   3   6   9   3   1   4   1   7   6   9\n"
     ]
    },
    {
     "data": {
      "image/png": "[encoded data removed]",
      "text/plain": [
       "<IPython.core.display.Image object>"
      ]
     },
     "metadata": {},
     "output_type": "display_data"
    }
   ],
   "source": [
    "q=predictionFunctionMulti(X,T);\n",
    "disp(\"Predicted labels for first 100 Test Images:\");\n",
    "disp(reshape(q(1:100)-1,10,[])');\n",
    "showImagesLabels(1:100,imageDataTest,labelsDataTest,imageSizeTest);"
   ]
  },
  {
   "cell_type": "markdown",
   "id": "055b89cf",
   "metadata": {},
   "source": [
    "### Multiclass Confusion Matrix (Maximum probability classification)"
   ]
  },
  {
   "cell_type": "code",
   "execution_count": 18,
   "id": "df7c9192",
   "metadata": {},
   "outputs": [
    {
     "name": "stdout",
     "output_type": "stream",
     "text": [
      "Multiclass Confusion Matrix (Maximum probability classification):\n",
      "\n",
      "                +-----------------------------------------------------------------------------------------+\n",
      "                |                                        Predicted                                        |\n",
      "                +--------+--------+--------+--------+--------+--------+--------+--------+--------+--------+\n",
      "                |    0   |    1   |    2   |    3   |    4   |    5   |    6   |    7   |    8   |    9   |\n",
      "+------+--------+--------+--------+--------+--------+--------+--------+--------+--------+--------+--------+\n",
      "|      |    0   |   961  |     0  |     1  |     3  |     0  |     4  |     5  |     3  |     1  |     2  |\n",
      "|      |    1   |     0  |  1111  |     3  |     2  |     0  |     1  |     5  |     1  |    12  |     0  |\n",
      "|      |    2   |     8  |     7  |   920  |    19  |    11  |     4  |    10  |    10  |    39  |     4  |\n",
      "|      |    3   |     5  |     1  |    18  |   918  |     2  |    21  |     4  |    12  |    20  |     9  |\n",
      "|Actual|    4   |     1  |     1  |     4  |     2  |   916  |     1  |    10  |     2  |     7  |    38  |\n",
      "|      |    5   |    10  |     3  |     1  |    40  |    10  |   769  |    16  |     6  |    29  |     8  |\n",
      "|      |    6   |    11  |     3  |     7  |     2  |     6  |    20  |   905  |     1  |     3  |     0  |\n",
      "|      |    7   |     2  |     7  |    22  |     5  |     8  |     1  |     1  |   950  |     5  |    27  |\n",
      "|      |    8   |    12  |    11  |     5  |    21  |    14  |    33  |     8  |    10  |   847  |    13  |\n",
      "|      |    9   |     7  |     8  |     1  |    13  |    31  |    14  |     1  |    24  |    12  |   898  |\n",
      "+------+--------+--------+--------+--------+--------+--------+--------+--------+--------+--------+--------+\n"
     ]
    }
   ],
   "source": [
    "[C,CID]=MulticlassConfusionMatrix(q-1,y);\n",
    "if(isnumeric(CID{1}))\n",
    "    CID=cellfun(@num2str,CID,\"UniformOutput\",false);\n",
    "endif\n",
    "\n",
    "disp(\"Multiclass Confusion Matrix (Maximum probability classification):\\n\")\n",
    "prettyPrintTable(C,CID,CID,\"Actual\",\"Predicted\",8,\"%4i\")"
   ]
  }
 ],
 "metadata": {
  "kernelspec": {
   "display_name": "Octave",
   "language": "octave",
   "name": "octave"
  },
  "language_info": {
   "file_extension": ".m",
   "help_links": [
    {
     "text": "GNU Octave",
     "url": "https://www.gnu.org/software/octave/support.html"
    },
    {
     "text": "Octave Kernel",
     "url": "https://github.com/Calysto/octave_kernel"
    },
    {
     "text": "MetaKernel Magics",
     "url": "https://metakernel.readthedocs.io/en/latest/source/README.html"
    }
   ],
   "mimetype": "text/x-octave",
   "name": "octave",
   "version": "7.1.0"
  }
 },
 "nbformat": 4,
 "nbformat_minor": 5
}
