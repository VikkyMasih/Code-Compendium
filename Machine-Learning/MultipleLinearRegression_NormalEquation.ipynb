{
 "cells": [
  {
   "cell_type": "markdown",
   "id": "4f55a989",
   "metadata": {},
   "source": [
    "## Multiple Linear Regression using Normal Equation\n",
    "\n",
    "**Regression Analysis** is a process of estimating **relationship** between a dependent variable and one or more independent variables or regressors.\n",
    "\n",
    "**Multiple Linear Regression** estimates linear relationship between **one** dependent variable and **more than one** independent variables.\n",
    "\n",
    "**Multivariate Linear regression** estimates linear relationship between **many** dependent variables and **one or more** independent variables.\n",
    "\n",
    "**Note:** Multiple Linear Regression $\\neq$ Multivariate Linear Regression\n",
    "\n",
    "----\n",
    "\n",
    "### Linear Model\n",
    "$$ y=\\theta_0x_0+\\theta_1x_1+...+\\theta_mx_m+\\epsilon= \\epsilon+\\sum_{i=0}^m x_i\\theta_i$$  \n",
    "Where,\n",
    "\n",
    "|Symbol |Description |\n",
    "| :---:| :--- |\n",
    "|$y$ |Dependent Variable  |\n",
    "|$x_i$  |Predictors / Regressors / Independent Variables <br>($x_0=1$) |\n",
    "|$\\theta_i$ | Parameters / Coefficients of the linear model|\n",
    "|$\\epsilon$ | Prediction Error |\n"
   ]
  },
  {
   "cell_type": "code",
   "execution_count": 1,
   "id": "35b1a778",
   "metadata": {},
   "outputs": [],
   "source": [
    "clc\n",
    "close all\n",
    "clear all\n",
    "format long"
   ]
  },
  {
   "cell_type": "markdown",
   "id": "2a4f1bff",
   "metadata": {},
   "source": [
    "### Hypothesis Function / Linear Model\n",
    "$$ f([x],\\{\\theta\\})=f_i=\\sum_{j} x_{ij} \\theta_j \\Leftrightarrow \\{f\\}=[X] \\{\\theta\\}$$  \n",
    "Where,  \n",
    "\n",
    "|Symbol |Description |\n",
    "| :---:| :--- |\n",
    "|$$f([x],\\{\\theta\\})$$ |Vectorized Function estimating Dependent Variable using linear model |\n",
    "|$x_i$  |Predictors / Regressors / Independent Variables <br>($x_0=1$) |\n",
    "|$\\theta_i$ | Parameters / Coefficients of the linear model|\n",
    "|$[X]$    |Design Matrix <br>(Ones filled in 1st column)<br>(Each row for a design point) |  \n",
    "|$\\{\\theta\\}$| Parameter Column Matrix |"
   ]
  },
  {
   "cell_type": "code",
   "execution_count": 2,
   "id": "71853798",
   "metadata": {},
   "outputs": [],
   "source": [
    "function f=hypothesisFunction(X,theta)\n",
    "  f=X*theta;\n",
    "endfunction"
   ]
  },
  {
   "cell_type": "markdown",
   "id": "e841ed89",
   "metadata": {},
   "source": [
    "### Normal Equation\n",
    "Finds closed form solution of the linear regression analysis by minimizing the Mean Square Error.\n",
    "$$ \\theta = (X^TX)^{-1}X^Ty $$"
   ]
  },
  {
   "cell_type": "code",
   "execution_count": 3,
   "id": "5769bfc7",
   "metadata": {},
   "outputs": [],
   "source": [
    "function [f,theta]=LinearRegression_NormalEquation(X,y)\n",
    "    XX=[ones(size(X,1),1) X];\n",
    "    theta=pinv(XX'*XX)*XX'*y;\n",
    "    f=@(Z) hypothesisFunction([ones(size(Z,1),1) Z],theta);\n",
    "endfunction"
   ]
  },
  {
   "cell_type": "markdown",
   "id": "0ae82283",
   "metadata": {},
   "source": [
    "### Main Program\n",
    "Reads a csv file having last column as the target and performs linear regression analysis."
   ]
  },
  {
   "cell_type": "code",
   "execution_count": 4,
   "id": "739e8de7",
   "metadata": {},
   "outputs": [
    {
     "name": "stdout",
     "output_type": "stream",
     "text": [
      "First 10 entries in the file:\n",
      "     71      5    156    137   1470\n",
      "     28      0    119    114   1104\n",
      "     51     41    113     51    934\n",
      "     82     39    173     78   1366\n",
      "     54     45    187    108   1532\n",
      "     92     33     41     46    682\n",
      "     13     31     81     94    917\n",
      "     97     36    196     34   1261\n",
      "     94      0     30      6    343\n",
      "      9      2    134     85    987\n"
     ]
    }
   ],
   "source": [
    "[fname,fpath]=uigetfile(\"*.csv\");\n",
    "fileLoc=fullfile(fpath,fname);\n",
    "Xy=csvread(fileLoc,1,0);\n",
    "disp(\"First 10 entries in the file:\")\n",
    "disp(Xy(1:10,:));\n",
    "X=Xy(:,1:end-1);\n",
    "y=Xy(:,end);"
   ]
  },
  {
   "cell_type": "code",
   "execution_count": 5,
   "id": "33294462",
   "metadata": {},
   "outputs": [
    {
     "data": {
      "image/png": "[encoded data removed]",
      "text/plain": [
       "<IPython.core.display.Image object>"
      ]
     },
     "metadata": {},
     "output_type": "display_data"
    }
   ],
   "source": [
    "[linRegF,theta]=LinearRegression_NormalEquation(X,y);\n",
    "plot(linRegF(X),y,'or');\n",
    "xlabel(\"Output\");\n",
    "ylabel(\"Target\");\n",
    "title(\"Regression Performance\");\n",
    "grid on;\n",
    "axis equal tight;"
   ]
  },
  {
   "cell_type": "code",
   "execution_count": 6,
   "id": "6b85c182",
   "metadata": {
    "scrolled": true
   },
   "outputs": [
    {
     "name": "stdout",
     "output_type": "stream",
     "text": [
      "Mean Square Error (MSE) = 1.10409\n",
      "----------------------------\n",
      "10th design point regressors:\n",
      "     9     2   134    85\n",
      "Predicted value of Dependent Variable = 987.545\n",
      "Target value of Dependent Variable = 987\n"
     ]
    }
   ],
   "source": [
    "printf(\"Mean Square Error (MSE) = %g\\n\",sum((linRegF(X)-y).^2)/length(y))\n",
    "disp(\"----------------------------\")\n",
    "disp(\"10th design point regressors:\")\n",
    "disp(X(10,:))\n",
    "printf(\"Predicted value of Dependent Variable = %g\\n\",linRegF(X(10,:)))\n",
    "printf(\"Target value of Dependent Variable = %g\\n\",y(10))"
   ]
  }
 ],
 "metadata": {
  "kernelspec": {
   "display_name": "Octave",
   "language": "octave",
   "name": "octave"
  },
  "language_info": {
   "file_extension": ".m",
   "help_links": [
    {
     "text": "GNU Octave",
     "url": "https://www.gnu.org/software/octave/support.html"
    },
    {
     "text": "Octave Kernel",
     "url": "https://github.com/Calysto/octave_kernel"
    },
    {
     "text": "MetaKernel Magics",
     "url": "https://metakernel.readthedocs.io/en/latest/source/README.html"
    }
   ],
   "mimetype": "text/x-octave",
   "name": "octave",
   "version": "7.1.0"
  }
 },
 "nbformat": 4,
 "nbformat_minor": 5
}
